{
 "cells": [
  {
   "cell_type": "code",
   "execution_count": 1,
   "id": "8fa34861",
   "metadata": {},
   "outputs": [],
   "source": [
    "from pythonfmu import Fmi2Causality, Fmi2Slave, Boolean, Integer, Real, String\n",
    "\n",
    "\n",
    "class PythonSlave(Fmi2Slave):\n",
    "\n",
    "    author = \"John Doe\"\n",
    "    description = \"A simple description\"\n",
    "\n",
    "    def __init__(self, **kwargs):\n",
    "        super().__init__(**kwargs)\n",
    "\n",
    "        self.intOut = 1\n",
    "        self.realOut = 3.0\n",
    "        self.booleanVariable = True\n",
    "        self.stringVariable = \"Hello World!\"\n",
    "        self.register_variable(Integer(\"intOut\", causality=Fmi2Causality.output))\n",
    "        self.register_variable(Real(\"realOut\", causality=Fmi2Causality.output))\n",
    "        self.register_variable(Boolean(\"booleanVariable\", causality=Fmi2Causality.local))\n",
    "        self.register_variable(String(\"stringVariable\", causality=Fmi2Causality.local))\n",
    "        \n",
    "        # Note:\n",
    "        # it is also possible to explicitly define getters and setters as lambdas in case the variable is not backed by a Python field.\n",
    "        # self.register_variable(Real(\"myReal\", causality=Fmi2Causality.output, getter=lambda: self.realOut, setter=lambda v: set_real_out(v))\n",
    "\n",
    "    def do_step(self, current_time, step_size):\n",
    "        return True"
   ]
  },
  {
   "cell_type": "code",
   "execution_count": null,
   "id": "3fade010",
   "metadata": {},
   "outputs": [],
   "source": []
  }
 ],
 "metadata": {
  "kernelspec": {
   "display_name": "Python 3 (ipykernel)",
   "language": "python",
   "name": "python3"
  },
  "language_info": {
   "codemirror_mode": {
    "name": "ipython",
    "version": 3
   },
   "file_extension": ".py",
   "mimetype": "text/x-python",
   "name": "python",
   "nbconvert_exporter": "python",
   "pygments_lexer": "ipython3",
   "version": "3.8.5"
  }
 },
 "nbformat": 4,
 "nbformat_minor": 5
}
