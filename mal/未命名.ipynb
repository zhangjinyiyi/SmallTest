{
 "cells": [
  {
   "cell_type": "code",
   "execution_count": 9,
   "id": "b0f7ce69",
   "metadata": {},
   "outputs": [],
   "source": [
    "import warnings"
   ]
  },
  {
   "cell_type": "code",
   "execution_count": 6,
   "id": "a2a0786d",
   "metadata": {},
   "outputs": [],
   "source": [
    "a = 5"
   ]
  },
  {
   "cell_type": "code",
   "execution_count": 10,
   "id": "feedd03c",
   "metadata": {},
   "outputs": [
    {
     "name": "stderr",
     "output_type": "stream",
     "text": [
      "/var/folders/_b/qnhwkpxd32sc1q1cpgms2n_c0000gn/T/ipykernel_45435/3227061802.py:2: UserWarning: Du\n",
      "  warnings.warn(\"Du\")\n"
     ]
    }
   ],
   "source": [
    "if a == 5:\n",
    "    warnings.warn(\"Du\")"
   ]
  },
  {
   "cell_type": "code",
   "execution_count": 35,
   "id": "bff37cea",
   "metadata": {},
   "outputs": [],
   "source": [
    "class A:\n",
    "    def __init__(self, a=1.0, name=\"a1\"):\n",
    "        self.name = name\n",
    "        self.a = a\n",
    "    def __eq__(self, rhs):\n",
    "        self.a = rhs.a\n",
    "\n",
    "class A1(A):\n",
    "    def __init__(self):\n",
    "        super(A1, self).__init__()\n",
    "\n",
    "class A2(A):\n",
    "    def __init__(self):\n",
    "        super(A2, self).__init__()"
   ]
  },
  {
   "cell_type": "code",
   "execution_count": 36,
   "id": "503230c5",
   "metadata": {},
   "outputs": [],
   "source": [
    "a1 = A(a=1.0, name=\"a1\")\n",
    "a2 = A(a=2.0, name=\"a2\")"
   ]
  },
  {
   "cell_type": "code",
   "execution_count": 42,
   "id": "f06c6d63",
   "metadata": {},
   "outputs": [
    {
     "data": {
      "text/plain": [
       "True"
      ]
     },
     "execution_count": 42,
     "metadata": {},
     "output_type": "execute_result"
    }
   ],
   "source": [
    "type(a1) == A"
   ]
  },
  {
   "cell_type": "code",
   "execution_count": 39,
   "id": "15960afb",
   "metadata": {},
   "outputs": [
    {
     "data": {
      "text/plain": [
       "2.0"
      ]
     },
     "execution_count": 39,
     "metadata": {},
     "output_type": "execute_result"
    }
   ],
   "source": [
    "    a1.a"
   ]
  },
  {
   "cell_type": "code",
   "execution_count": 26,
   "id": "865ee853",
   "metadata": {},
   "outputs": [
    {
     "ename": "AttributeError",
     "evalue": "'super' object has no attribute '__name__'",
     "output_type": "error",
     "traceback": [
      "\u001b[0;31m---------------------------------------------------------------------------\u001b[0m",
      "\u001b[0;31mAttributeError\u001b[0m                            Traceback (most recent call last)",
      "Input \u001b[0;32mIn [26]\u001b[0m, in \u001b[0;36m<cell line: 1>\u001b[0;34m()\u001b[0m\n\u001b[0;32m----> 1\u001b[0m \u001b[38;5;28;43msuper\u001b[39;49m\u001b[43m(\u001b[49m\u001b[38;5;28;43mtype\u001b[39;49m\u001b[43m(\u001b[49m\u001b[43ma1\u001b[49m\u001b[43m)\u001b[49m\u001b[43m)\u001b[49m\u001b[38;5;241;43m.\u001b[39;49m\u001b[38;5;18;43m__name__\u001b[39;49m\n",
      "\u001b[0;31mAttributeError\u001b[0m: 'super' object has no attribute '__name__'"
     ]
    }
   ],
   "source": [
    "super(type(a1)).__name__"
   ]
  },
  {
   "cell_type": "code",
   "execution_count": 29,
   "id": "f5ed6e6e",
   "metadata": {},
   "outputs": [
    {
     "data": {
      "text/plain": [
       "True"
      ]
     },
     "execution_count": 29,
     "metadata": {},
     "output_type": "execute_result"
    }
   ],
   "source": [
    "type(a1).__base__ == type(a2).__base__"
   ]
  },
  {
   "cell_type": "code",
   "execution_count": null,
   "id": "3c2a9f03",
   "metadata": {},
   "outputs": [],
   "source": []
  }
 ],
 "metadata": {
  "kernelspec": {
   "display_name": "Python 3 (ipykernel)",
   "language": "python",
   "name": "python3"
  },
  "language_info": {
   "codemirror_mode": {
    "name": "ipython",
    "version": 3
   },
   "file_extension": ".py",
   "mimetype": "text/x-python",
   "name": "python",
   "nbconvert_exporter": "python",
   "pygments_lexer": "ipython3",
   "version": "3.8.13"
  }
 },
 "nbformat": 4,
 "nbformat_minor": 5
}
